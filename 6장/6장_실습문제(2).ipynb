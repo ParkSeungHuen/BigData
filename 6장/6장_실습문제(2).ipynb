{
 "cells": [
  {
   "cell_type": "code",
   "execution_count": 1,
   "metadata": {},
   "outputs": [
    {
     "name": "stdout",
     "output_type": "stream",
     "text": [
      "癤우���뿭蹂� 媛��쟾 �옱怨좊웾 議곗궗,,,,,,,,,,\n",
      "吏��뿭,吏��뿭.1,�꽌�슱,�꽌�슱.1,�꽌�슱.2,寃쎄린,寃쎄린.1,寃쎄린.2,媛뺤썝,媛뺤썝.1,媛뺤썝.2\n",
      "吏��젏,吏��젏,A,B,C,A,B,C,A,B,C\n",
      "而댄벂�꽣,�끂�듃遺�,1000,1109,1290,1284,1938,948,892,948,876\n",
      "而댄벂�꽣,�뜲�뒪�겕�깙,1500,1390,1840,1010,1290,1028,839,893,819\n",
      "媛��쟾,TV,2001,2019,1839,1028,1039,1948,980,899,897\n",
      "媛��쟾,�깋�옣怨�,1111,1938,1993,1932,1827,1173,1827,1172,1100\n",
      "紐⑤컮�씪,�빖�뱶�룿,5000,5827,9481,8493,8732,8193,7371,7491,8749\n",
      "紐⑤컮�씪,�깭釉붾┸,2019,1290,1928,2928,1928,1928,1918,900,899\n",
      "�늻怨� ,�늻怨� ,12631,13573,18371,16675,16754,15218,13827,12303,13340\n",
      "遺�議�,遺�議�,�깋�옣怨� ,�뾾�쓬,�뾾�쓬,�뾾�쓬,�뾾�쓬,�뾾�쓬,�끂�듃遺�,�뜲�뒪�겕�깙,TV\n"
     ]
    }
   ],
   "source": [
    "import pandas as pd\n",
    "!type 6장실습.csv"
   ]
  },
  {
   "cell_type": "code",
   "execution_count": 2,
   "metadata": {},
   "outputs": [
    {
     "name": "stdout",
     "output_type": "stream",
     "text": [
      "UTF-8-SIG\n"
     ]
    }
   ],
   "source": [
    "import chardet\n",
    "import pandas as pd\n",
    "filename = \"6장실습.csv\"\n",
    "with open(filename, 'rb') as f:\n",
    "    result = chardet.detect(f.readline())  # or read() if the file is small.\n",
    "    print(result['encoding'])"
   ]
  },
  {
   "cell_type": "code",
   "execution_count": 23,
   "metadata": {},
   "outputs": [],
   "source": [
    "#1\n",
    "data = pd.read_csv('6장실습.csv', header = 1, encoding='UTF-8-SIG') #맨 위 없애기 : header 속성 이용\n",
    "\n",
    "#2 \n",
    "data = data.drop(['지역'], axis = 1)\n",
    "data = data.drop(['지역.1'], axis = 1)\n",
    "\n",
    "#3\n",
    "data = data.drop([7], axis = 0)\n",
    "data = data.drop([8], axis = 0)\n",
    "data\n",
    "\n",
    "#4\n",
    "data.to_csv(\"6장결과_OUT.csv\")"
   ]
  },
  {
   "cell_type": "markdown",
   "metadata": {},
   "source": [
    "## 1. 첫번째 행을 지우고 그 내용을 출력하시오."
   ]
  },
  {
   "cell_type": "markdown",
   "metadata": {},
   "source": [
    "## 2. 지역 column을 지우고 출력하시오"
   ]
  },
  {
   "cell_type": "markdown",
   "metadata": {},
   "source": [
    "## 3. 마지막 2줄은 내용과 관련이 없어 지우고 출력하시오."
   ]
  },
  {
   "cell_type": "markdown",
   "metadata": {},
   "source": [
    "## 4. 최종 결과를 '6장결과_OUT.csv' 파일로 출력하시오."
   ]
  },
  {
   "cell_type": "code",
   "execution_count": 26,
   "metadata": {},
   "outputs": [
    {
     "data": {
      "text/html": [
       "<div>\n",
       "<style scoped>\n",
       "    .dataframe tbody tr th:only-of-type {\n",
       "        vertical-align: middle;\n",
       "    }\n",
       "\n",
       "    .dataframe tbody tr th {\n",
       "        vertical-align: top;\n",
       "    }\n",
       "\n",
       "    .dataframe thead th {\n",
       "        text-align: right;\n",
       "    }\n",
       "</style>\n",
       "<table border=\"1\" class=\"dataframe\">\n",
       "  <thead>\n",
       "    <tr style=\"text-align: right;\">\n",
       "      <th></th>\n",
       "      <th>Unnamed: 0</th>\n",
       "      <th>서울</th>\n",
       "      <th>서울.1</th>\n",
       "      <th>서울.2</th>\n",
       "      <th>경기</th>\n",
       "      <th>경기.1</th>\n",
       "      <th>경기.2</th>\n",
       "      <th>강원</th>\n",
       "      <th>강원.1</th>\n",
       "      <th>강원.2</th>\n",
       "    </tr>\n",
       "  </thead>\n",
       "  <tbody>\n",
       "    <tr>\n",
       "      <th>0</th>\n",
       "      <td>0</td>\n",
       "      <td>A</td>\n",
       "      <td>B</td>\n",
       "      <td>C</td>\n",
       "      <td>A</td>\n",
       "      <td>B</td>\n",
       "      <td>C</td>\n",
       "      <td>A</td>\n",
       "      <td>B</td>\n",
       "      <td>C</td>\n",
       "    </tr>\n",
       "    <tr>\n",
       "      <th>1</th>\n",
       "      <td>1</td>\n",
       "      <td>1000</td>\n",
       "      <td>1109</td>\n",
       "      <td>1290</td>\n",
       "      <td>1284</td>\n",
       "      <td>1938</td>\n",
       "      <td>948</td>\n",
       "      <td>892</td>\n",
       "      <td>948</td>\n",
       "      <td>876</td>\n",
       "    </tr>\n",
       "    <tr>\n",
       "      <th>2</th>\n",
       "      <td>2</td>\n",
       "      <td>1500</td>\n",
       "      <td>1390</td>\n",
       "      <td>1840</td>\n",
       "      <td>1010</td>\n",
       "      <td>1290</td>\n",
       "      <td>1028</td>\n",
       "      <td>839</td>\n",
       "      <td>893</td>\n",
       "      <td>819</td>\n",
       "    </tr>\n",
       "    <tr>\n",
       "      <th>3</th>\n",
       "      <td>3</td>\n",
       "      <td>2001</td>\n",
       "      <td>2019</td>\n",
       "      <td>1839</td>\n",
       "      <td>1028</td>\n",
       "      <td>1039</td>\n",
       "      <td>1948</td>\n",
       "      <td>980</td>\n",
       "      <td>899</td>\n",
       "      <td>897</td>\n",
       "    </tr>\n",
       "    <tr>\n",
       "      <th>4</th>\n",
       "      <td>4</td>\n",
       "      <td>1111</td>\n",
       "      <td>1938</td>\n",
       "      <td>1993</td>\n",
       "      <td>1932</td>\n",
       "      <td>1827</td>\n",
       "      <td>1173</td>\n",
       "      <td>1827</td>\n",
       "      <td>1172</td>\n",
       "      <td>1100</td>\n",
       "    </tr>\n",
       "    <tr>\n",
       "      <th>5</th>\n",
       "      <td>5</td>\n",
       "      <td>5000</td>\n",
       "      <td>5827</td>\n",
       "      <td>9481</td>\n",
       "      <td>8493</td>\n",
       "      <td>8732</td>\n",
       "      <td>8193</td>\n",
       "      <td>7371</td>\n",
       "      <td>7491</td>\n",
       "      <td>8749</td>\n",
       "    </tr>\n",
       "    <tr>\n",
       "      <th>6</th>\n",
       "      <td>6</td>\n",
       "      <td>2019</td>\n",
       "      <td>1290</td>\n",
       "      <td>1928</td>\n",
       "      <td>2928</td>\n",
       "      <td>1928</td>\n",
       "      <td>1928</td>\n",
       "      <td>1918</td>\n",
       "      <td>900</td>\n",
       "      <td>899</td>\n",
       "    </tr>\n",
       "  </tbody>\n",
       "</table>\n",
       "</div>"
      ],
      "text/plain": [
       "   Unnamed: 0    서울  서울.1  서울.2    경기  경기.1  경기.2    강원  강원.1  강원.2\n",
       "0           0     A     B     C     A     B     C     A     B     C\n",
       "1           1  1000  1109  1290  1284  1938   948   892   948   876\n",
       "2           2  1500  1390  1840  1010  1290  1028   839   893   819\n",
       "3           3  2001  2019  1839  1028  1039  1948   980   899   897\n",
       "4           4  1111  1938  1993  1932  1827  1173  1827  1172  1100\n",
       "5           5  5000  5827  9481  8493  8732  8193  7371  7491  8749\n",
       "6           6  2019  1290  1928  2928  1928  1928  1918   900   899"
      ]
     },
     "execution_count": 26,
     "metadata": {},
     "output_type": "execute_result"
    }
   ],
   "source": [
    "data2 = pd.read_csv('6장결과_OUT.csv', encoding='UTF-8-SIG') \n",
    "data2"
   ]
  },
  {
   "cell_type": "code",
   "execution_count": null,
   "metadata": {},
   "outputs": [],
   "source": []
  }
 ],
 "metadata": {
  "kernelspec": {
   "display_name": "Python 3 (ipykernel)",
   "language": "python",
   "name": "python3"
  },
  "language_info": {
   "codemirror_mode": {
    "name": "ipython",
    "version": 3
   },
   "file_extension": ".py",
   "mimetype": "text/x-python",
   "name": "python",
   "nbconvert_exporter": "python",
   "pygments_lexer": "ipython3",
   "version": "3.11.2"
  }
 },
 "nbformat": 4,
 "nbformat_minor": 4
}
